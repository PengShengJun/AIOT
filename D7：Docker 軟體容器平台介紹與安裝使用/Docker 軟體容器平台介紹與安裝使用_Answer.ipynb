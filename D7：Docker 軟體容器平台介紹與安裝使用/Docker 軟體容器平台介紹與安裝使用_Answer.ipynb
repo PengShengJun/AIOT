{
 "cells": [
  {
   "cell_type": "markdown",
   "metadata": {},
   "source": [
    "# 作業：安裝Docker，下載映像檔後，建立容器並將實體主機和容器的資料夾互連"
   ]
  },
  {
   "cell_type": "markdown",
   "metadata": {},
   "source": [
    "# [作業目標]\n",
    "* 成功安裝 Docker\n",
    "* 可以從 Docker Hub 下載映像檔到電腦中\n",
    "* 能夠使用映像檔建立容器\n",
    "* 連接本機的資料夾和容器中的資料夾\n",
    "* 使用 docker exec 指令進入到容器中"
   ]
  },
  {
   "cell_type": "markdown",
   "metadata": {},
   "source": [
    "# [作業重點]\n",
    "* 了解映像檔(Image)和容器(Container) 之間的關係\n",
    "* 能夠使用指令進到容器中"
   ]
  },
  {
   "cell_type": "markdown",
   "metadata": {},
   "source": [
    "# [作業1]\n",
    "* 將此映像檔下載至電腦\n",
    "[alpine](https://hub.docker.com/_/alpine)"
   ]
  },
  {
   "cell_type": "markdown",
   "metadata": {},
   "source": [
    "# [答案1]\n",
    "使用指令 <u>**docker pull alpine**</u> 將 image 下載至本地端"
   ]
  },
  {
   "cell_type": "markdown",
   "metadata": {},
   "source": [
    "# [作業2]\n",
    "* 使用下載的映像檔建立容器，並選定本機中的一個資料夾與容器中的資料夾做連結\n",
    "* 在本機與容器做連結的資料夾裡建立一個檔案\n",
    "* 使用指令進到容器內，查看與外部連結的資料夾，即可看到剛剛在本機建立的檔案"
   ]
  },
  {
   "cell_type": "markdown",
   "metadata": {},
   "source": [
    "# [答案2]\n",
    "使用指令 <u>**docker run -it -v [你的本地端資料夾路徑]:[容器中要指定的路徑] alpine /bin/sh**</u>\n",
    "\n",
    "\n",
    "指令解析：\n",
    "* docker run : 建立並執行容器\n",
    "* -it : i 啟用互動式(interactive)的容器，t(tty) 分配一個虛擬終端給容器\n",
    "* -v : 設定本地端資料夾與容器中資料夾的互相連通\n",
    "* alpine : 映像檔名稱，也可以用映像檔編號\n",
    "* /bin/sh : 容器啟動時要執行的指令，"
   ]
  }
 ],
 "metadata": {
  "kernelspec": {
   "display_name": "Python 3 (ipykernel)",
   "language": "python",
   "name": "python3"
  },
  "language_info": {
   "codemirror_mode": {
    "name": "ipython",
    "version": 3
   },
   "file_extension": ".py",
   "mimetype": "text/x-python",
   "name": "python",
   "nbconvert_exporter": "python",
   "pygments_lexer": "ipython3",
   "version": "3.9.7"
  }
 },
 "nbformat": 4,
 "nbformat_minor": 4
}
