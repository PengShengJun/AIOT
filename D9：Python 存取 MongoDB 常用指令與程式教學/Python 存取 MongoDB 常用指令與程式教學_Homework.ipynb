{
 "cells": [
  {
   "cell_type": "markdown",
   "metadata": {},
   "source": [
    "# 作業： 使用 Python 操作 MongoDB"
   ]
  },
  {
   "cell_type": "markdown",
   "metadata": {},
   "source": [
    "# [作業目標]\n",
    "* 能夠使用 Python 對 MongoDB 的資料進行增刪改查操作。\n",
    "* 使用 Robo 3T 工具查看資料。"
   ]
  },
  {
   "cell_type": "markdown",
   "metadata": {},
   "source": [
    "# [作業重點]\n",
    "* 執行程式前，MongoDB Server 記得要先開啟。\n",
    "* 若 DB、Collection 原本不存在，則直到有第一筆資料 insert 進去，才會真的建立 DB 及 Collection"
   ]
  },
  {
   "cell_type": "markdown",
   "metadata": {},
   "source": [
    "# 作業1\n",
    "* 建立 DB 及 Collection (名稱自訂)，使用 Python 取得連線。"
   ]
  },
  {
   "cell_type": "code",
   "execution_count": 1,
   "metadata": {},
   "outputs": [],
   "source": [
    "from pymongo import MongoClient\n",
    "from flask import Flask, request\n",
    "\n",
    "\n",
    "# 連線 sever\n",
    "client = MongoClient(host='127.0.0.1', port=27017)\n",
    "# 連接資料庫\n",
    "db = client['mydb']\n",
    "# 指定集合\n",
    "collection = db['Member']"
   ]
  },
  {
   "cell_type": "markdown",
   "metadata": {},
   "source": [
    "# 作業2\n",
    "* 使用 Python 操作 Mongo 中的資料。"
   ]
  },
  {
   "cell_type": "code",
   "execution_count": 2,
   "metadata": {},
   "outputs": [
    {
     "data": {
      "text/plain": [
       "<pymongo.results.InsertManyResult at 0x2382c9ec6c0>"
      ]
     },
     "execution_count": 2,
     "metadata": {},
     "output_type": "execute_result"
    }
   ],
   "source": [
    "#1. 新增資料\n",
    "Member1 = {\"name\": \"Jim\", \"phone\": \"0912345678\", \"email\": \"jim@test.com\"}\n",
    "Member_list = [\n",
    "    {\"name\": \"Kevin\", \"phone\": \"0912345678\", \"email\": \"kevin@test.com\"},\n",
    "    {\"name\": \"Zack\", \"phone\": \"0912345678\", \"email\": \"zack@test.com\"},\n",
    "    {\"name\": \"Lisa\", \"phone\": \"0912345678\", \"email\": \"lisa@test.com\"}\n",
    "              ]\n",
    "\n",
    "\n",
    "collection.insert_one(Member1)\n",
    "collection.insert_many(Member_list)"
   ]
  },
  {
   "cell_type": "code",
   "execution_count": 3,
   "metadata": {},
   "outputs": [
    {
     "name": "stdout",
     "output_type": "stream",
     "text": [
      "{'_id': ObjectId('62091c01902df5cc139aaeda'), 'name': 'Jim', 'phone': '0912345678', 'email': 'jim@test.com'}\n",
      "{'_id': ObjectId('62091c01902df5cc139aaedb'), 'name': 'Kevin', 'phone': '0912345678', 'email': 'kevin@test.com'}\n",
      "{'_id': ObjectId('62091c01902df5cc139aaedc'), 'name': 'Zack', 'phone': '0912345678', 'email': 'zack@test.com'}\n",
      "{'_id': ObjectId('62091c01902df5cc139aaedd'), 'name': 'Lisa', 'phone': '0912345678', 'email': 'lisa@test.com'}\n",
      "{'_id': ObjectId('62091c01902df5cc139aaedc'), 'name': 'Zack', 'phone': '0912345678', 'email': 'zack@test.com'}\n",
      "{'_id': ObjectId('62091c01902df5cc139aaeda'), 'name': 'Jim', 'phone': '0912345678', 'email': 'jim@test.com'}\n"
     ]
    }
   ],
   "source": [
    "#2. 查詢資料\n",
    "Members = collection.find({}) # 不加入條件拿出所有資料\n",
    "for Member in Members:\n",
    "    print(Member)\n",
    "    \n",
    "Members = collection.find({\"name\": \"Zack\"}) # 加入過濾條件\n",
    "for Member in Members:\n",
    "    print(Member) \n",
    "\n",
    "Member = collection.find_one({}) # 拿出一筆\n",
    "print(Member)"
   ]
  },
  {
   "cell_type": "code",
   "execution_count": 4,
   "metadata": {},
   "outputs": [
    {
     "data": {
      "text/plain": [
       "<pymongo.results.UpdateResult at 0x2382c9e8300>"
      ]
     },
     "execution_count": 4,
     "metadata": {},
     "output_type": "execute_result"
    }
   ],
   "source": [
    "#3. 修改資料\n",
    "update_filter = {\"name\": \"Jim\"} # 加入過濾條件\n",
    "update_data = {\"$set\": {\"phone\" : \"0987654321\"}} # 要更改成什麼資料\n",
    "\n",
    "collection.update_one(update_filter, update_data)"
   ]
  },
  {
   "cell_type": "code",
   "execution_count": 5,
   "metadata": {},
   "outputs": [
    {
     "data": {
      "text/plain": [
       "<pymongo.results.DeleteResult at 0x2382c9bee00>"
      ]
     },
     "execution_count": 5,
     "metadata": {},
     "output_type": "execute_result"
    }
   ],
   "source": [
    "#4. 刪除資料\n",
    "collection.delete_one({}) # 刪除一筆資料\n",
    "collection.delete_many({\"phone\": \"0912345678\"}) # 刪除多筆，且條件為品牌(brand) 是 iphone 的皆會被刪除"
   ]
  }
 ],
 "metadata": {
  "kernelspec": {
   "display_name": "Python 3 (ipykernel)",
   "language": "python",
   "name": "python3"
  },
  "language_info": {
   "codemirror_mode": {
    "name": "ipython",
    "version": 3
   },
   "file_extension": ".py",
   "mimetype": "text/x-python",
   "name": "python",
   "nbconvert_exporter": "python",
   "pygments_lexer": "ipython3",
   "version": "3.9.7"
  }
 },
 "nbformat": 4,
 "nbformat_minor": 4
}
